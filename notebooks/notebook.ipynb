{
 "cells": [
  {
   "cell_type": "code",
   "execution_count": 1,
   "metadata": {},
   "outputs": [],
   "source": [
    "import requests"
   ]
  },
  {
   "cell_type": "code",
   "execution_count": 2,
   "metadata": {},
   "outputs": [],
   "source": [
    "url = 'http://localhost:5000/predicao2/'"
   ]
  },
  {
   "cell_type": "code",
   "execution_count": 6,
   "metadata": {},
   "outputs": [],
   "source": [
    "dados = {\n",
    "    \"seila1\":5,\n",
    "    \"seila2\":5,\n",
    "    \"seila3\":5,\n",
    "    \"seila4\":5,\n",
    "    \"seila5\":5,\n",
    "    \"seila6\":5,\n",
    "    \"seila7\":5,\n",
    "    \"seila8\":5,\n",
    "    \"seila9\":5,\n",
    "    \"seila10\":5,\n",
    "    \"seila11\":5,\n",
    "    \"seila12\":5,\n",
    "    \"seila13\":5,\n",
    "    \"seila14\":5,\n",
    "    \"seila15\":5,\n",
    "    \"seila16\":5,\n",
    "    \"seila17\":5\n",
    "}"
   ]
  },
  {
   "cell_type": "code",
   "execution_count": 7,
   "metadata": {},
   "outputs": [],
   "source": [
    "response = requests.post(url, json=dados)"
   ]
  },
  {
   "cell_type": "code",
   "execution_count": 8,
   "metadata": {},
   "outputs": [
    {
     "data": {
      "text/plain": [
       "\"Classe: ['satisfied']\""
      ]
     },
     "execution_count": 8,
     "metadata": {},
     "output_type": "execute_result"
    }
   ],
   "source": [
    "response.text"
   ]
  }
 ],
 "metadata": {
  "kernelspec": {
   "display_name": "Python 3",
   "language": "python",
   "name": "python3"
  },
  "language_info": {
   "codemirror_mode": {
    "name": "ipython",
    "version": 3
   },
   "file_extension": ".py",
   "mimetype": "text/x-python",
   "name": "python",
   "nbconvert_exporter": "python",
   "pygments_lexer": "ipython3",
   "version": "3.10.10"
  },
  "orig_nbformat": 4,
  "vscode": {
   "interpreter": {
    "hash": "3bdefd094ccb8bd3365ae8c21bf36ef46047804461a4c589742842225130b2b8"
   }
  }
 },
 "nbformat": 4,
 "nbformat_minor": 2
}
